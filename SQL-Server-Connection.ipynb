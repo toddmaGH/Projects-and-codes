{
 "cells": [
  {
   "cell_type": "code",
   "execution_count": 24,
   "id": "d2625aa3-29cd-40a1-a103-47b8dd3612b3",
   "metadata": {},
   "outputs": [
    {
     "name": "stdout",
     "output_type": "stream",
     "text": [
      "    Order_Date      Sales_person Sub_Category  Quantity    Sales\n",
      "0   2024-05-01     Sophia Martin  Accessories         5    48.90\n",
      "1   2024-05-01        John Smith     Supplies         2     3.33\n",
      "2   2024-05-01     Robert Thomas       Tables         4   933.26\n",
      "3   2024-05-01     Robert Thomas       Chairs         5  2803.92\n",
      "4   2024-05-01     Michael Brown    Bookcases         3   314.35\n",
      "5   2024-05-01     Michael Brown       Labels         2     4.61\n",
      "6   2024-05-02  Matthew Thompson  Furnishings         3   129.93\n",
      "7   2024-05-02     Robert Thomas  Accessories         4   159.56\n",
      "8   2024-05-02       Chuck Magee        Paper         5    15.70\n",
      "9   2024-05-02      Laura Taylor          Art         3    59.52\n",
      "10  2024-05-02     Robert Thomas        Paper         5    34.40\n"
     ]
    }
   ],
   "source": [
    "from sqlalchemy import create_engine\n",
    "import pandas as pd\n",
    "# created by Todd Martin 9/2024\n",
    "# Define the connection string\n",
    "connection_string = (\n",
    "    'mssql+pyodbc://MARTIN/HomeStore?driver=ODBC+Driver+17+for+SQL+Server'\n",
    ")\n",
    "\n",
    "# Create the engine\n",
    "engine = create_engine(connection_string)\n",
    "\n",
    "# Define the SQL query\n",
    "query = \"\"\"\n",
    "SELECT Order_Date, Sales_person, Sub_Category, Quantity, Round(Sales, 2) as 'Sales'\n",
    "FROM dbo.Sales_orders\n",
    "WHERE Order_Date BETWEEN '2024-05-01' AND '2024-05-02'\n",
    "\"\"\"\n",
    "\n",
    "# Execute the query and fetch the data into a DataFrame\n",
    "df = pd.read_sql(query, engine)\n",
    "\n",
    "# Display the DataFrame\n",
    "print(df)"
   ]
  },
  {
   "cell_type": "code",
   "execution_count": 26,
   "id": "4c134340-38cd-4023-8b3f-6b8ef0c70567",
   "metadata": {},
   "outputs": [
    {
     "name": "stdin",
     "output_type": "stream",
     "text": [
      "Enter the start date (YYYY-MM-DD):  2024-04-04\n",
      "Enter the end date (YYYY-MM-DD):  2024-04-05\n"
     ]
    },
    {
     "name": "stdout",
     "output_type": "stream",
     "text": [
      "   Order_Date      Sales_person Sub_Category  Quantity   Sales\n",
      "0  2024-04-04     Anna Andreadi       Phones         4  383.84\n",
      "1  2024-04-04    James Anderson       Phones         1   41.22\n",
      "2  2024-04-04  Matthew Thompson     Supplies         1  240.37\n",
      "3  2024-04-04        John Smith       Phones         2  119.02\n",
      "4  2024-04-04  Matthew Thompson    Envelopes         1   16.98\n",
      "5  2024-04-04        John Smith          Art         4    7.04\n"
     ]
    }
   ],
   "source": [
    "from sqlalchemy import create_engine\n",
    "import pandas as pd\n",
    "# Created by Todd Martin 9/2024\n",
    "# Define the connection string\n",
    "connection_string = (\n",
    "    'mssql+pyodbc://MARTIN/HomeStore?driver=ODBC+Driver+17+for+SQL+Server'\n",
    ")\n",
    "\n",
    "# Create the engine\n",
    "engine = create_engine(connection_string)\n",
    "\n",
    "# Get user input for the date range\n",
    "start_date = input(\"Enter the start date (YYYY-MM-DD): \")\n",
    "end_date = input(\"Enter the end date (YYYY-MM-DD): \")\n",
    "\n",
    "# Define the SQL query with user input\n",
    "query = f\"\"\"\n",
    "SELECT Order_Date, Sales_person, Sub_Category, Quantity, ROUND(Sales, 2) as 'Sales'\n",
    "FROM dbo.Sales_orders\n",
    "WHERE Order_Date BETWEEN '{start_date}' AND '{end_date}'\n",
    "\"\"\"\n",
    "\n",
    "# Execute the query and fetch the data into a DataFrame\n",
    "df = pd.read_sql(query, engine)\n",
    "\n",
    "# Display the DataFrame\n",
    "print(df)"
   ]
  },
  {
   "cell_type": "code",
   "execution_count": 28,
   "id": "d885fc9c-c3f4-4583-978e-d552c4babb27",
   "metadata": {},
   "outputs": [
    {
     "ename": "SyntaxError",
     "evalue": "invalid syntax (1164823345.py, line 1)",
     "output_type": "error",
     "traceback": [
      "\u001b[1;36m  Cell \u001b[1;32mIn[28], line 1\u001b[1;36m\u001b[0m\n\u001b[1;33m    git init\u001b[0m\n\u001b[1;37m        ^\u001b[0m\n\u001b[1;31mSyntaxError\u001b[0m\u001b[1;31m:\u001b[0m invalid syntax\n"
     ]
    }
   ],
   "source": [
    "git init\n",
    "git add .\n",
    "git commit -m \"Initial commit\"\n",
    "git remote add origin https://github.com/toddmaGH/Projects-and-codes.git\n",
    "git push -u origin master"
   ]
  },
  {
   "cell_type": "code",
   "execution_count": null,
   "id": "1ac21e70-f051-4a5f-9f09-c4ab202a8a59",
   "metadata": {},
   "outputs": [],
   "source": []
  }
 ],
 "metadata": {
  "kernelspec": {
   "display_name": "Python 3 (ipykernel)",
   "language": "python",
   "name": "python3"
  },
  "language_info": {
   "codemirror_mode": {
    "name": "ipython",
    "version": 3
   },
   "file_extension": ".py",
   "mimetype": "text/x-python",
   "name": "python",
   "nbconvert_exporter": "python",
   "pygments_lexer": "ipython3",
   "version": "3.12.4"
  }
 },
 "nbformat": 4,
 "nbformat_minor": 5
}
